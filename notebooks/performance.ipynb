{
 "cells": [
  {
   "cell_type": "code",
   "execution_count": 14,
   "id": "5d3c41a9-7380-4a8a-befb-5e7c1abc6557",
   "metadata": {},
   "outputs": [],
   "source": [
    "from pdcst.models import Podcast\n",
    "from pdcst.repository import PodcastInDb, PodcastListInDb\n",
    "\n",
    "from datetime import datetime"
   ]
  },
  {
   "cell_type": "code",
   "execution_count": 2,
   "id": "8525d4de-de0c-4e39-82cc-fcbaef2f9631",
   "metadata": {},
   "outputs": [],
   "source": [
    "attrs = {\n",
    "    \"feed\": {\n",
    "        \"url\": \"https://example.com/rss.xml\",\n",
    "        \"updated\": datetime.utcnow(),\n",
    "    },\n",
    "    \"title\": \"Python Podcast\",\n",
    "    \"episodes_count\": 3,\n",
    "    \"file_name_pattern\": \"{index:03}_{title}.{file_format}\",\n",
    "}"
   ]
  },
  {
   "cell_type": "code",
   "execution_count": 3,
   "id": "5085ef0c-375b-4135-b4ec-eef5d63e2e62",
   "metadata": {},
   "outputs": [
    {
     "data": {
      "text/plain": [
       "{'url': 'https://example.com/rss.xml',\n",
       " 'updated': datetime.datetime(2022, 2, 9, 21, 20, 41, 385858)}"
      ]
     },
     "execution_count": 3,
     "metadata": {},
     "output_type": "execute_result"
    }
   ],
   "source": [
    "attrs[\"feed\"]"
   ]
  },
  {
   "cell_type": "markdown",
   "id": "94c47dc8-8f98-4e5d-be26-2f6266835f69",
   "metadata": {},
   "source": [
    "# Serialize/Deserialize Single Objects"
   ]
  },
  {
   "cell_type": "markdown",
   "id": "af4d8e07-4625-4ef4-a1d6-d83b2a48fa82",
   "metadata": {},
   "source": [
    "## Deserialization"
   ]
  },
  {
   "cell_type": "code",
   "execution_count": 6,
   "id": "cea6e886-fa78-4c00-8cb1-3329f9c1a0ba",
   "metadata": {},
   "outputs": [
    {
     "name": "stdout",
     "output_type": "stream",
     "text": [
      "849 ns ± 2.53 ns per loop (mean ± std. dev. of 7 runs, 1,000,000 loops each)\n"
     ]
    }
   ],
   "source": [
    "%%timeit\n",
    "podcast = Podcast.from_dict(attrs)"
   ]
  },
  {
   "cell_type": "code",
   "execution_count": 7,
   "id": "849e1c17-1edb-4d48-b92d-e889209d7948",
   "metadata": {},
   "outputs": [
    {
     "name": "stdout",
     "output_type": "stream",
     "text": [
      "5.79 µs ± 9.41 ns per loop (mean ± std. dev. of 7 runs, 100,000 loops each)\n"
     ]
    }
   ],
   "source": [
    "%%timeit\n",
    "podcast_in_db = PodcastInDb(**attrs)"
   ]
  },
  {
   "cell_type": "markdown",
   "id": "72df3a59-be0a-4bfc-9ec3-66edc8989205",
   "metadata": {},
   "source": [
    "## Serialization"
   ]
  },
  {
   "cell_type": "code",
   "execution_count": 11,
   "id": "ab23c029-203a-481d-9426-83bd817086ca",
   "metadata": {},
   "outputs": [
    {
     "name": "stdout",
     "output_type": "stream",
     "text": [
      "7.07 µs ± 23.5 ns per loop (mean ± std. dev. of 7 runs, 100,000 loops each)\n"
     ]
    }
   ],
   "source": [
    "%%timeit\n",
    "foo = podcast_in_db.dict()"
   ]
  },
  {
   "cell_type": "code",
   "execution_count": 12,
   "id": "b6e52fa7-6b1a-465f-853a-e84b3f13733c",
   "metadata": {},
   "outputs": [
    {
     "name": "stdout",
     "output_type": "stream",
     "text": [
      "280 ns ± 0.311 ns per loop (mean ± std. dev. of 7 runs, 1,000,000 loops each)\n"
     ]
    }
   ],
   "source": [
    "%%timeit\n",
    "foo = podcast.dict()"
   ]
  },
  {
   "cell_type": "markdown",
   "id": "a7bfd0c9-ff7c-42b6-a0b8-099d9d255d7f",
   "metadata": {},
   "source": [
    "# Serialize / Deserialize Lists of Objects"
   ]
  },
  {
   "cell_type": "code",
   "execution_count": 13,
   "id": "a42baa3f-5636-4c5c-be57-00e5a9799280",
   "metadata": {},
   "outputs": [],
   "source": [
    "list_of_attrs = [attrs for i in range(100)]"
   ]
  },
  {
   "cell_type": "markdown",
   "id": "5492ebc3-9cd2-4514-b179-8bb43be9b72e",
   "metadata": {},
   "source": [
    "## Deserialization"
   ]
  },
  {
   "cell_type": "code",
   "execution_count": 28,
   "id": "e3f66b20-6e59-4a3b-8f36-cced161f5ecf",
   "metadata": {},
   "outputs": [
    {
     "name": "stdout",
     "output_type": "stream",
     "text": [
      "84.3 µs ± 345 ns per loop (mean ± std. dev. of 7 runs, 10,000 loops each)\n"
     ]
    }
   ],
   "source": [
    "%%timeit\n",
    "podcasts = [Podcast.from_dict(attrs) for attrs in list_of_attrs]"
   ]
  },
  {
   "cell_type": "code",
   "execution_count": 26,
   "id": "f67266d7-192c-44d8-b1f6-b65e08f300c4",
   "metadata": {},
   "outputs": [
    {
     "name": "stdout",
     "output_type": "stream",
     "text": [
      "689 µs ± 1.56 µs per loop (mean ± std. dev. of 7 runs, 1,000 loops each)\n"
     ]
    }
   ],
   "source": [
    "%%timeit\n",
    "podcasts_in_db = PodcastListInDb.parse_obj(list_of_attrs)"
   ]
  },
  {
   "cell_type": "markdown",
   "id": "9a50f68f-5093-4577-9159-b5dd11aabd09",
   "metadata": {},
   "source": [
    "## Serialization"
   ]
  },
  {
   "cell_type": "code",
   "execution_count": 31,
   "id": "cb5447d3-6fd2-44d6-8bc7-64831c60000d",
   "metadata": {},
   "outputs": [],
   "source": [
    "podcasts = [Podcast.from_dict(attrs) for attrs in list_of_attrs]"
   ]
  },
  {
   "cell_type": "code",
   "execution_count": 32,
   "id": "d4297734-84fc-4714-abe2-2e8d583e6f11",
   "metadata": {},
   "outputs": [
    {
     "name": "stdout",
     "output_type": "stream",
     "text": [
      "31.6 µs ± 31.5 ns per loop (mean ± std. dev. of 7 runs, 10,000 loops each)\n"
     ]
    }
   ],
   "source": [
    "%%timeit\n",
    "foo = [podcast.dict() for podcast in podcasts]"
   ]
  },
  {
   "cell_type": "code",
   "execution_count": 35,
   "id": "02401627-3e71-49a8-bce2-1ed618867aca",
   "metadata": {},
   "outputs": [
    {
     "name": "stdout",
     "output_type": "stream",
     "text": [
      "790 µs ± 925 ns per loop (mean ± std. dev. of 7 runs, 1,000 loops each)\n"
     ]
    }
   ],
   "source": [
    "%%timeit\n",
    "foo = podcasts_in_db.dict()"
   ]
  },
  {
   "cell_type": "code",
   "execution_count": 36,
   "id": "8d3b462d-1fa0-43e3-ab9b-61f726e2abc0",
   "metadata": {},
   "outputs": [
    {
     "data": {
      "text/plain": [
       "25.483870967741936"
      ]
     },
     "execution_count": 36,
     "metadata": {},
     "output_type": "execute_result"
    }
   ],
   "source": [
    "790 / 31"
   ]
  },
  {
   "cell_type": "code",
   "execution_count": 37,
   "id": "bb240d02-b290-4335-8106-7d12ced5f0a6",
   "metadata": {},
   "outputs": [
    {
     "data": {
      "text/plain": [
       "8.202380952380953"
      ]
     },
     "execution_count": 37,
     "metadata": {},
     "output_type": "execute_result"
    }
   ],
   "source": [
    "689 / 84"
   ]
  }
 ],
 "metadata": {
  "kernelspec": {
   "display_name": "Python 3 (ipykernel)",
   "language": "python",
   "name": "python3"
  },
  "language_info": {
   "codemirror_mode": {
    "name": "ipython",
    "version": 3
   },
   "file_extension": ".py",
   "mimetype": "text/x-python",
   "name": "python",
   "nbconvert_exporter": "python",
   "pygments_lexer": "ipython3",
   "version": "3.10.2"
  }
 },
 "nbformat": 4,
 "nbformat_minor": 5
}
