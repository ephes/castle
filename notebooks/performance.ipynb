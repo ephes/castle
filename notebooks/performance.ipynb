{
 "cells": [
  {
   "cell_type": "code",
   "execution_count": 1,
   "id": "5d3c41a9-7380-4a8a-befb-5e7c1abc6557",
   "metadata": {},
   "outputs": [],
   "source": [
    "from pdcst.models import Podcast\n",
    "from pdcst.repository import PodcastInDb\n",
    "\n",
    "from datetime import datetime"
   ]
  },
  {
   "cell_type": "code",
   "execution_count": 2,
   "id": "8525d4de-de0c-4e39-82cc-fcbaef2f9631",
   "metadata": {},
   "outputs": [],
   "source": [
    "attrs = {\n",
    "    \"feed\": {\n",
    "        \"url\": \"https://example.com/rss.xml\",\n",
    "        \"updated\": datetime.utcnow(),\n",
    "    },\n",
    "    \"title\": \"Python Podcast\",\n",
    "    \"episodes_count\": 3,\n",
    "    \"file_name_pattern\": \"{index:03}_{title}.{file_format}\",\n",
    "}"
   ]
  },
  {
   "cell_type": "code",
   "execution_count": 3,
   "id": "5085ef0c-375b-4135-b4ec-eef5d63e2e62",
   "metadata": {},
   "outputs": [
    {
     "data": {
      "text/plain": [
       "{'url': 'https://example.com/rss.xml',\n",
       " 'updated': datetime.datetime(2022, 2, 9, 21, 20, 41, 385858)}"
      ]
     },
     "execution_count": 3,
     "metadata": {},
     "output_type": "execute_result"
    }
   ],
   "source": [
    "attrs[\"feed\"]"
   ]
  },
  {
   "cell_type": "code",
   "execution_count": 6,
   "id": "cea6e886-fa78-4c00-8cb1-3329f9c1a0ba",
   "metadata": {},
   "outputs": [
    {
     "name": "stdout",
     "output_type": "stream",
     "text": [
      "849 ns ± 2.53 ns per loop (mean ± std. dev. of 7 runs, 1,000,000 loops each)\n"
     ]
    }
   ],
   "source": [
    "%%timeit\n",
    "podcast = Podcast.from_dict(attrs)"
   ]
  },
  {
   "cell_type": "code",
   "execution_count": 7,
   "id": "849e1c17-1edb-4d48-b92d-e889209d7948",
   "metadata": {},
   "outputs": [
    {
     "name": "stdout",
     "output_type": "stream",
     "text": [
      "5.79 µs ± 9.41 ns per loop (mean ± std. dev. of 7 runs, 100,000 loops each)\n"
     ]
    }
   ],
   "source": [
    "%%timeit\n",
    "podcast_in_db = PodcastInDb(**attrs)"
   ]
  },
  {
   "cell_type": "code",
   "execution_count": 11,
   "id": "ab23c029-203a-481d-9426-83bd817086ca",
   "metadata": {},
   "outputs": [
    {
     "name": "stdout",
     "output_type": "stream",
     "text": [
      "7.07 µs ± 23.5 ns per loop (mean ± std. dev. of 7 runs, 100,000 loops each)\n"
     ]
    }
   ],
   "source": [
    "%%timeit\n",
    "foo = podcast_in_db.dict()"
   ]
  },
  {
   "cell_type": "code",
   "execution_count": 12,
   "id": "b6e52fa7-6b1a-465f-853a-e84b3f13733c",
   "metadata": {},
   "outputs": [
    {
     "name": "stdout",
     "output_type": "stream",
     "text": [
      "280 ns ± 0.311 ns per loop (mean ± std. dev. of 7 runs, 1,000,000 loops each)\n"
     ]
    }
   ],
   "source": [
    "%%timeit\n",
    "foo = podcast.dict()"
   ]
  },
  {
   "cell_type": "code",
   "execution_count": null,
   "id": "be34e8db-5fb7-410d-a644-535999c3ca6c",
   "metadata": {},
   "outputs": [],
   "source": []
  }
 ],
 "metadata": {
  "kernelspec": {
   "display_name": "Python 3 (ipykernel)",
   "language": "python",
   "name": "python3"
  },
  "language_info": {
   "codemirror_mode": {
    "name": "ipython",
    "version": 3
   },
   "file_extension": ".py",
   "mimetype": "text/x-python",
   "name": "python",
   "nbconvert_exporter": "python",
   "pygments_lexer": "ipython3",
   "version": "3.10.2"
  }
 },
 "nbformat": 4,
 "nbformat_minor": 5
}
