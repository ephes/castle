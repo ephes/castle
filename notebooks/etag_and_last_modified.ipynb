{
 "cells": [
  {
   "cell_type": "code",
   "execution_count": 1,
   "id": "4149ad8e-7682-46f8-989b-693c733a1013",
   "metadata": {},
   "outputs": [],
   "source": [
    "import feedparser"
   ]
  },
  {
   "cell_type": "markdown",
   "id": "248c9854-e086-4fdb-afa5-2c1c56adc528",
   "metadata": {},
   "source": [
    "# ETag"
   ]
  },
  {
   "cell_type": "code",
   "execution_count": 5,
   "id": "8865f3fe-b437-45e7-8c46-9cc5c933cca9",
   "metadata": {},
   "outputs": [],
   "source": [
    "url = \"https://python-podcast.de/show/feed/podcast/mp3/rss.xml\"\n",
    "url = \"https://freakshow.fm/feed/m4a\""
   ]
  },
  {
   "cell_type": "code",
   "execution_count": 6,
   "id": "a261bda6-9933-4936-b94f-5f6294bf85c6",
   "metadata": {},
   "outputs": [],
   "source": [
    "d = feedparser.parse(url)"
   ]
  },
  {
   "cell_type": "code",
   "execution_count": 7,
   "id": "16b117e3-1642-42fc-8822-281053bf66b3",
   "metadata": {},
   "outputs": [
    {
     "data": {
      "text/plain": [
       "'W/\"620601c4-41c53c\"'"
      ]
     },
     "execution_count": 7,
     "metadata": {},
     "output_type": "execute_result"
    }
   ],
   "source": [
    "d.etag"
   ]
  },
  {
   "cell_type": "code",
   "execution_count": 8,
   "id": "a85cfcdc-b1c9-4da5-beee-76e0f2b4d83b",
   "metadata": {},
   "outputs": [],
   "source": [
    "d2 = feedparser.parse(url, etag=d.etag)"
   ]
  },
  {
   "cell_type": "code",
   "execution_count": 9,
   "id": "2074581d-5f82-48a8-b76c-809212d84ab3",
   "metadata": {},
   "outputs": [
    {
     "data": {
      "text/plain": [
       "307"
      ]
     },
     "execution_count": 9,
     "metadata": {},
     "output_type": "execute_result"
    }
   ],
   "source": [
    "d2.status"
   ]
  },
  {
   "cell_type": "code",
   "execution_count": 11,
   "id": "9a7abe9a-ee9e-429a-80a5-28f61ac37328",
   "metadata": {},
   "outputs": [
    {
     "data": {
      "text/plain": [
       "{'server': 'nginx',\n",
       " 'date': 'Fri, 11 Feb 2022 06:34:11 GMT',\n",
       " 'last-modified': 'Fri, 11 Feb 2022 06:27:16 GMT',\n",
       " 'etag': '\"620601c4-41c53c\"',\n",
       " 'x-backend-server': '172.16.0.47',\n",
       " 'access-control-allow-origin': '*',\n",
       " 'access-control-allow-methods': 'GET,OPTIONS',\n",
       " 'access-control-allow-headers': 'Content-Type,Origin,Accept',\n",
       " 'x-feed-name': 'freakshow-m4a',\n",
       " 'connection': 'close'}"
      ]
     },
     "execution_count": 11,
     "metadata": {},
     "output_type": "execute_result"
    }
   ],
   "source": [
    "d2.headers"
   ]
  },
  {
   "cell_type": "code",
   "execution_count": 14,
   "id": "5d4c62cd-1b9a-47df-97c8-53d3704bf5e0",
   "metadata": {},
   "outputs": [],
   "source": [
    "d3 = feedparser.parse(url, etag='\"620601c4-41c53c\"')"
   ]
  },
  {
   "cell_type": "code",
   "execution_count": 15,
   "id": "e487683f-e2ae-4e9e-994e-f9f3f2b90499",
   "metadata": {},
   "outputs": [
    {
     "data": {
      "text/plain": [
       "307"
      ]
     },
     "execution_count": 15,
     "metadata": {},
     "output_type": "execute_result"
    }
   ],
   "source": [
    "d3.status"
   ]
  },
  {
   "cell_type": "code",
   "execution_count": 16,
   "id": "a17614fe-975f-4121-b23b-861ebe76653b",
   "metadata": {},
   "outputs": [
    {
     "data": {
      "text/plain": [
       "'\"620601c4-41c53c\"'"
      ]
     },
     "execution_count": 16,
     "metadata": {},
     "output_type": "execute_result"
    }
   ],
   "source": [
    "d3.etag"
   ]
  },
  {
   "cell_type": "code",
   "execution_count": 17,
   "id": "fd860e79-a514-4d6c-a11a-da6d2b78b706",
   "metadata": {},
   "outputs": [
    {
     "data": {
      "text/plain": [
       "'The feed has not changed since you last checked, so the server sent no data.  This is a feature, not a bug!'"
      ]
     },
     "execution_count": 17,
     "metadata": {},
     "output_type": "execute_result"
    }
   ],
   "source": [
    "d3.debug_message"
   ]
  },
  {
   "cell_type": "code",
   "execution_count": 18,
   "id": "b606b00c-9147-444e-8cc5-31bbcb06885f",
   "metadata": {},
   "outputs": [
    {
     "data": {
      "text/plain": [
       "{'server': 'nginx',\n",
       " 'date': 'Fri, 11 Feb 2022 06:35:31 GMT',\n",
       " 'last-modified': 'Fri, 11 Feb 2022 06:27:16 GMT',\n",
       " 'etag': '\"620601c4-41c53c\"',\n",
       " 'x-backend-server': '172.16.0.51',\n",
       " 'access-control-allow-origin': '*',\n",
       " 'access-control-allow-methods': 'GET,OPTIONS',\n",
       " 'access-control-allow-headers': 'Content-Type,Origin,Accept',\n",
       " 'x-feed-name': 'freakshow-m4a',\n",
       " 'connection': 'close'}"
      ]
     },
     "execution_count": 18,
     "metadata": {},
     "output_type": "execute_result"
    }
   ],
   "source": [
    "d3.headers"
   ]
  },
  {
   "cell_type": "markdown",
   "id": "e04e3e7a-5f97-4fb0-baf8-f26526ec9ba3",
   "metadata": {},
   "source": [
    "# Last Modified"
   ]
  },
  {
   "cell_type": "code",
   "execution_count": 19,
   "id": "496e8591-03e9-450e-ae4d-7bd08a83afc3",
   "metadata": {},
   "outputs": [],
   "source": [
    "url = \"https://python-podcast.de/show/feed/podcast/mp3/rss.xml\"\n",
    "d = feedparser.parse(url)"
   ]
  },
  {
   "cell_type": "code",
   "execution_count": 20,
   "id": "df4a9b43-5125-4cd1-aac8-d48a73e06115",
   "metadata": {},
   "outputs": [
    {
     "data": {
      "text/plain": [
       "{'content-encoding': 'gzip',\n",
       " 'content-type': 'application/rss+xml; charset=utf-8',\n",
       " 'date': 'Fri, 11 Feb 2022 06:40:03 GMT',\n",
       " 'last-modified': 'Wed, 02 Feb 2022 06:10:22 GMT',\n",
       " 'referrer-policy': 'same-origin',\n",
       " 'server': 'gunicorn',\n",
       " 'strict-transport-security': 'max-age=60; includeSubDomains; preload',\n",
       " 'vary': 'Accept-Encoding',\n",
       " 'x-content-type-options': 'nosniff',\n",
       " 'x-frame-options': 'DENY',\n",
       " 'x-xss-protection': '1; mode=block',\n",
       " 'connection': 'close',\n",
       " 'transfer-encoding': 'chunked'}"
      ]
     },
     "execution_count": 20,
     "metadata": {},
     "output_type": "execute_result"
    }
   ],
   "source": [
    "d.headers"
   ]
  },
  {
   "cell_type": "code",
   "execution_count": 21,
   "id": "87dbb7f3-5eb8-4b56-9a75-5d07a55aa155",
   "metadata": {},
   "outputs": [],
   "source": [
    "url = \"https://freakshow.fm/feed/m4a\"\n",
    "d = feedparser.parse(url)"
   ]
  },
  {
   "cell_type": "code",
   "execution_count": 22,
   "id": "05f2094d-de55-48fd-909f-d84a0df1a0de",
   "metadata": {},
   "outputs": [
    {
     "data": {
      "text/plain": [
       "{'server': 'nginx',\n",
       " 'date': 'Fri, 11 Feb 2022 06:40:27 GMT',\n",
       " 'content-type': 'text/xml; charset=UTF-8',\n",
       " 'last-modified': 'Fri, 11 Feb 2022 06:27:16 GMT',\n",
       " 'transfer-encoding': 'chunked',\n",
       " 'vary': 'Accept-Encoding',\n",
       " 'etag': 'W/\"620601c4-41c53c\"',\n",
       " 'x-backend-server': '172.16.0.47',\n",
       " 'access-control-allow-origin': '*',\n",
       " 'access-control-allow-methods': 'GET,OPTIONS',\n",
       " 'access-control-allow-headers': 'Content-Type,Origin,Accept',\n",
       " 'x-feed-name': 'freakshow-m4a',\n",
       " 'content-encoding': 'gzip',\n",
       " 'connection': 'close'}"
      ]
     },
     "execution_count": 22,
     "metadata": {},
     "output_type": "execute_result"
    }
   ],
   "source": [
    "d.headers"
   ]
  },
  {
   "cell_type": "code",
   "execution_count": null,
   "id": "2abdfe77-6753-46c7-855c-50195b5bb889",
   "metadata": {},
   "outputs": [],
   "source": []
  }
 ],
 "metadata": {
  "kernelspec": {
   "display_name": "Python 3 (ipykernel)",
   "language": "python",
   "name": "python3"
  },
  "language_info": {
   "codemirror_mode": {
    "name": "ipython",
    "version": 3
   },
   "file_extension": ".py",
   "mimetype": "text/x-python",
   "name": "python",
   "nbconvert_exporter": "python",
   "pygments_lexer": "ipython3",
   "version": "3.10.2"
  }
 },
 "nbformat": 4,
 "nbformat_minor": 5
}
